{
  "nbformat": 4,
  "nbformat_minor": 0,
  "metadata": {
    "kernelspec": {
      "display_name": "Python 3",
      "language": "python",
      "name": "python3"
    },
    "language_info": {
      "codemirror_mode": {
        "name": "ipython",
        "version": 3
      },
      "file_extension": ".py",
      "mimetype": "text/x-python",
      "name": "python",
      "nbconvert_exporter": "python",
      "pygments_lexer": "ipython3",
      "version": "3.7.6"
    },
    "colab": {
      "name": "Practice-Markdown.ipynb",
      "provenance": [],
      "include_colab_link": true
    }
  },
  "cells": [
    {
      "cell_type": "markdown",
      "metadata": {
        "id": "view-in-github",
        "colab_type": "text"
      },
      "source": [
        "<a href=\"https://colab.research.google.com/github/joty005/new_repo/blob/main/Practice_Markdown.ipynb\" target=\"_parent\"><img src=\"https://colab.research.google.com/assets/colab-badge.svg\" alt=\"Open In Colab\"/></a>"
      ]
    },
    {
      "cell_type": "markdown",
      "metadata": {
        "id": "eyXiJTGAJrxW"
      },
      "source": [
        "## Practice Markdown"
      ]
    },
    {
      "cell_type": "markdown",
      "metadata": {
        "id": "OyIXMQctJrxd"
      },
      "source": [
        "This notebook lets you experiment with producing repeatable technical documentation.  Use this notebook to do the following actions:\n",
        "\n",
        "* Create a code cell and print a Python Hello World statement:  `print(\"hello world\")`\n",
        "* Create a Markdown Cell and add a Title using `#` and then a statement using plain text.  You can looks at the source code for this cell to get an idea of how to use Markdown.\n",
        "* Take some ideas from the [Master Markdown Github Guide](https://guides.github.com/features/mastering-markdown/) and implement them here.\n",
        "* Download this notebook as a `.ipynb` file and check into a Github Project.  You can [see an example here](https://github.com/noahgift/duke-coursera-ccf-lab1/blob/main/Practice-Markdown.ipynb).\n",
        "* Open your notebook in Google Colab and save it into the same Github Project.  You can [see an example here](https://github.com/noahgift/duke-coursera-ccf-lab1/blob/main/Practice_Markdown_with_colab.ipynb).\n"
      ]
    },
    {
      "cell_type": "code",
      "metadata": {
        "id": "CZBmqFxSJrxh",
        "outputId": "fe45fe7c-c606-4fe9-eda6-a710f55353c8"
      },
      "source": [
        "print(\"hello world\")"
      ],
      "execution_count": null,
      "outputs": [
        {
          "output_type": "stream",
          "text": [
            "hello world\n"
          ],
          "name": "stdout"
        }
      ]
    },
    {
      "cell_type": "markdown",
      "metadata": {
        "id": "RoMw71BDJrxn"
      },
      "source": [
        "# Practice markdown"
      ]
    },
    {
      "cell_type": "markdown",
      "metadata": {
        "id": "lir8H2z6Jrxo"
      },
      "source": [
        "It's very easy to make some words **bold** and other words *italic* with Markdown. You can even [link to google](http://google.com)"
      ]
    },
    {
      "cell_type": "markdown",
      "metadata": {
        "id": "t-cR6oG-Jrxp"
      },
      "source": [
        "# This is an  <h1> tag\n",
        "## This is an <h2> tag\n",
        "###### This is an <h6> tag\n"
      ]
    },
    {
      "cell_type": "markdown",
      "metadata": {
        "id": "ljWpjiUkJrxq"
      },
      "source": [
        "*This text will be italic*"
      ]
    },
    {
      "cell_type": "markdown",
      "metadata": {
        "id": "p02ijhERJrxr"
      },
      "source": [
        "_This text will be italic_"
      ]
    },
    {
      "cell_type": "markdown",
      "metadata": {
        "id": "tRrpBVeqJrxr"
      },
      "source": [
        "**This text will be bold**"
      ]
    },
    {
      "cell_type": "markdown",
      "metadata": {
        "id": "O4tF8o0xJrxt"
      },
      "source": [
        "__This text will be bold__"
      ]
    },
    {
      "cell_type": "markdown",
      "metadata": {
        "id": "SZrauiFKJrxt"
      },
      "source": [
        "_You **can** combine them_"
      ]
    },
    {
      "cell_type": "markdown",
      "metadata": {
        "id": "c629apADJrxu"
      },
      "source": [
        "* One\n",
        "* Two\n",
        "    * One\n",
        "    * Two"
      ]
    },
    {
      "cell_type": "markdown",
      "metadata": {
        "id": "OKvob9dTJrxv"
      },
      "source": [
        "1. One\n",
        "1. Two\n",
        "    1. One\n",
        "    1. Two"
      ]
    },
    {
      "cell_type": "markdown",
      "metadata": {
        "id": "L6TPr3cyJrxv"
      },
      "source": [
        "- One\n",
        "- Two\n",
        "  - One"
      ]
    },
    {
      "cell_type": "markdown",
      "metadata": {
        "id": "AwORtD7BJrxw"
      },
      "source": [
        "If you want to embed images, this is how you do it:\n",
        "\n",
        "![Image of Yaktocat](https://octodex.github.com/images/yaktocat.png)"
      ]
    },
    {
      "cell_type": "markdown",
      "metadata": {
        "id": "IzXGtTRKJrxw"
      },
      "source": [
        "# Structured documents\n",
        "\n",
        "Sometimes it's useful to have different levels of headings to structure your documents. Start lines with a `#` to create headings. Multiple `##` in a row denote smaller heading sizes.\n",
        "\n",
        "### This is a third-tier heading\n",
        "\n",
        "You can use one `#` all the way up to `######` six for different heading sizes.\n",
        "\n",
        "If you'd like to quote someone, use the > character before the line:\n",
        "\n",
        "> Coffee. The finest organic suspension ever devised... I beat the Borg with it.\n",
        "> - Captain Janeway"
      ]
    },
    {
      "cell_type": "markdown",
      "metadata": {
        "id": "If4D1WrwJrxx"
      },
      "source": [
        "There are many different ways to style code with GitHub's markdown. If you have inline code blocks, wrap them in backticks: `var example = true`.  If you've got a longer block of code, you can indent with four spaces:\n",
        "\n",
        "    if (isAwesome){\n",
        "      return true\n",
        "    }\n",
        "\n",
        "GitHub also supports something called code fencing, which allows for multiple lines without indentation:\n",
        "\n",
        "```\n",
        "if (isAwesome){\n",
        "  return true\n",
        "}\n",
        "```\n",
        "\n",
        "And if you'd like to use syntax highlighting, include the language:\n",
        "\n",
        "```javascript\n",
        "if (isAwesome){\n",
        "  return true\n",
        "}\n",
        "```"
      ]
    },
    {
      "cell_type": "markdown",
      "metadata": {
        "id": "e9736U8CJrxx"
      },
      "source": [
        "GitHub supports many extras in Markdown that help you reference and link to people. If you ever want to direct a comment at someone, you can prefix their name with an @ symbol: Hey @kneath — love your sweater!\n",
        "\n",
        "But I have to admit, tasks lists are my favorite:\n",
        "\n",
        "-  [x] This is a complete item\n",
        "-  [ ] This is an incomplete item\n",
        "\n",
        "When you include a task list in the first comment of an Issue, you will see a helpful progress bar in your list of issues. It works in Pull Requests, too!\n",
        "\n",
        "And, of course emoji!"
      ]
    },
    {
      "cell_type": "markdown",
      "metadata": {
        "id": "6CXMDlsuJrxy"
      },
      "source": [
        "\n"
      ]
    },
    {
      "cell_type": "code",
      "metadata": {
        "id": "s37tMYiPJrxy"
      },
      "source": [
        ""
      ],
      "execution_count": null,
      "outputs": []
    }
  ]
}